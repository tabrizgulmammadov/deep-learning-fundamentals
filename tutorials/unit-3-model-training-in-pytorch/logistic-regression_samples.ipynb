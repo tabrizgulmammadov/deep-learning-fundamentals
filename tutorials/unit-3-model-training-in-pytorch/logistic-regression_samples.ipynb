{
 "cells": [
  {
   "cell_type": "markdown",
   "id": "9633fef9-8111-4574-9e71-5666724f2756",
   "metadata": {},
   "source": [
    "## 1) Calculation sample with torch"
   ]
  },
  {
   "cell_type": "code",
   "execution_count": null,
   "id": "83542f22-ed10-45b1-8b54-c7d31dfa574d",
   "metadata": {},
   "outputs": [],
   "source": [
    "import torch"
   ]
  },
  {
   "cell_type": "code",
   "execution_count": 31,
   "id": "022b89c8-fa68-4f3a-a6f1-de6cc3778fe4",
   "metadata": {},
   "outputs": [],
   "source": [
    "# model parameters\n",
    "w_1 = torch.tensor([0.23], requires_grad=True)\n",
    "b = torch.tensor([0.1], requires_grad=True)\n",
    "\n",
    "# inputs and target\n",
    "x_1 = torch.tensor([1.23])\n",
    "y = torch.tensor([1.])"
   ]
  },
  {
   "cell_type": "code",
   "execution_count": 32,
   "id": "74efc343-7ef3-4371-bca0-e107557a4f2f",
   "metadata": {},
   "outputs": [
    {
     "name": "stdout",
     "output_type": "stream",
     "text": [
      "tensor([0.3829], grad_fn=<AddBackward0>)\n"
     ]
    }
   ],
   "source": [
    "# calculate u and z\n",
    "u = x_1 * w_1\n",
    "z = u + b\n",
    "print(z)"
   ]
  },
  {
   "cell_type": "code",
   "execution_count": 33,
   "id": "67cf18ca-365a-4fe8-9dd2-a53172820d49",
   "metadata": {},
   "outputs": [
    {
     "name": "stdout",
     "output_type": "stream",
     "text": [
      "tensor([0.5946], grad_fn=<SigmoidBackward0>)\n"
     ]
    }
   ],
   "source": [
    "# calculate sigmoid\n",
    "a = torch.sigmoid(z)\n",
    "print(a)"
   ]
  },
  {
   "cell_type": "code",
   "execution_count": 34,
   "id": "5a84d97a-da07-4cce-b39c-087e42641d4f",
   "metadata": {},
   "outputs": [
    {
     "name": "stdout",
     "output_type": "stream",
     "text": [
      "tensor(0.5199, grad_fn=<BinaryCrossEntropyWithLogitsBackward0>)\n"
     ]
    }
   ],
   "source": [
    "# calculate loss\n",
    "import torch.nn.functional as F\n",
    "\n",
    "# it's not best practice to use the binary_cross_entropy for loss\n",
    "# l = F.binary_cross_entropy(a, y)\n",
    "\n",
    "l = F.binary_cross_entropy_with_logits(z, y)\n",
    "print(l)"
   ]
  },
  {
   "cell_type": "code",
   "execution_count": 35,
   "id": "52ec6727-55c7-4a09-bd64-d4e308924927",
   "metadata": {},
   "outputs": [
    {
     "name": "stdout",
     "output_type": "stream",
     "text": [
      "tensor([-0.4987])\n",
      "tensor([-0.4054])\n"
     ]
    }
   ],
   "source": [
    "# calculate partial derivative of L and w1\n",
    "# from torch.autograd import grad\n",
    "\n",
    "# grad_L_w1 = grad(l, w_1, retain_graph=True)\n",
    "# print(grad_L_w1)\n",
    "\n",
    "# grad_L_b = grad(l, b, retain_graph=True)\n",
    "# print(grad_L_b)\n",
    "\n",
    "# instead of above code, we can use below short way\n",
    "l.backward()\n",
    "print(w_1.grad)\n",
    "print(b.grad)"
   ]
  },
  {
   "cell_type": "markdown",
   "id": "72409ade-ba93-4000-ba82-14d312642f16",
   "metadata": {},
   "source": [
    "## 2) Neural Network Layers"
   ]
  },
  {
   "cell_type": "code",
   "execution_count": 38,
   "id": "a88bf75a-ee1e-4caf-a525-98e47bb15794",
   "metadata": {},
   "outputs": [],
   "source": [
    "import torch\n",
    "\n",
    "# it will return the same results in each execution\n",
    "torch.manual_seed(123)\n",
    "\n",
    "linear = torch.nn.Linear(in_features=2, out_features=1)"
   ]
  },
  {
   "cell_type": "code",
   "execution_count": 41,
   "id": "b1ee9dd4-ad12-48b9-8fd6-4ad6f8439b09",
   "metadata": {},
   "outputs": [
    {
     "name": "stdout",
     "output_type": "stream",
     "text": [
      "Parameter containing:\n",
      "tensor([[-0.2883,  0.0234]], requires_grad=True)\n"
     ]
    }
   ],
   "source": [
    "print(linear.weight)"
   ]
  },
  {
   "cell_type": "code",
   "execution_count": 42,
   "id": "103ca764-fd6f-4d39-ad18-8bba9a483277",
   "metadata": {},
   "outputs": [
    {
     "name": "stdout",
     "output_type": "stream",
     "text": [
      "Parameter containing:\n",
      "tensor([-0.3512], requires_grad=True)\n"
     ]
    }
   ],
   "source": [
    "print(linear.bias)"
   ]
  },
  {
   "cell_type": "code",
   "execution_count": 44,
   "id": "41900370-1b34-4f89-acec-837ba341a805",
   "metadata": {},
   "outputs": [
    {
     "name": "stdout",
     "output_type": "stream",
     "text": [
      "tensor([[1.2000, 0.5000]])\n"
     ]
    }
   ],
   "source": [
    "x = torch.tensor([[1.2, 0.5]])\n",
    "print(x)"
   ]
  },
  {
   "cell_type": "code",
   "execution_count": 45,
   "id": "0ceb23ff-5e8e-4d17-96b2-aac4f6ba92b1",
   "metadata": {},
   "outputs": [
    {
     "name": "stdout",
     "output_type": "stream",
     "text": [
      "tensor([[-0.6855]])\n"
     ]
    }
   ],
   "source": [
    "w = linear.weight.detach()\n",
    "b = linear.bias.detach()\n",
    "z = x.matmul(w.T) + b\n",
    "\n",
    "print(z)"
   ]
  },
  {
   "cell_type": "code",
   "execution_count": 49,
   "id": "96d26d0c-4990-4222-8dd1-26c383fa8447",
   "metadata": {},
   "outputs": [
    {
     "name": "stdout",
     "output_type": "stream",
     "text": [
      "tensor([[-0.6855]], grad_fn=<AddmmBackward0>)\n"
     ]
    }
   ],
   "source": [
    "# we can write in a short form the above code\n",
    "z = linear(x)\n",
    "# the result will be the same as the previous code sample\n",
    "print(z)"
   ]
  }
 ],
 "metadata": {
  "kernelspec": {
   "display_name": "Python 3 (ipykernel)",
   "language": "python",
   "name": "python3"
  },
  "language_info": {
   "codemirror_mode": {
    "name": "ipython",
    "version": 3
   },
   "file_extension": ".py",
   "mimetype": "text/x-python",
   "name": "python",
   "nbconvert_exporter": "python",
   "pygments_lexer": "ipython3",
   "version": "3.12.7"
  }
 },
 "nbformat": 4,
 "nbformat_minor": 5
}
