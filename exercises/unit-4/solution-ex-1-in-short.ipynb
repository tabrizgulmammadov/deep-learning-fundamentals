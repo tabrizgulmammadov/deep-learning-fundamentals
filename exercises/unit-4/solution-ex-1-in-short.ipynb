{
 "cells": [
  {
   "cell_type": "markdown",
   "id": "d71bce70-9dc3-448b-9f9a-8896e83b6d09",
   "metadata": {},
   "source": [
    "# Implementing a Multilayer Perceptron (MNIST)"
   ]
  },
  {
   "cell_type": "markdown",
   "id": "e5b48fc7-4f46-4d5a-8558-cd06892aaa27",
   "metadata": {},
   "source": [
    "## 1) Installing Libraries"
   ]
  },
  {
   "cell_type": "code",
   "execution_count": 20,
   "id": "be1f5a9a-b3ee-424b-ab02-4371f49bd786",
   "metadata": {},
   "outputs": [],
   "source": [
    "# !conda install numpy pandas matplotlib --yes"
   ]
  },
  {
   "cell_type": "code",
   "execution_count": 21,
   "id": "1ea7b3b8-9092-4b37-8b7f-57362be611ad",
   "metadata": {},
   "outputs": [],
   "source": [
    "# !pip install torch torchvision torchaudio"
   ]
  },
  {
   "cell_type": "code",
   "execution_count": 22,
   "id": "79dd2077-ba5c-4ab5-95fc-6ee4d8a9f811",
   "metadata": {},
   "outputs": [],
   "source": [
    "# !conda install watermark"
   ]
  },
  {
   "cell_type": "code",
   "execution_count": 23,
   "id": "bc4fa295-5c62-4888-bcf8-d07d6a7afc47",
   "metadata": {},
   "outputs": [
    {
     "name": "stdout",
     "output_type": "stream",
     "text": [
      "The watermark extension is already loaded. To reload it, use:\n",
      "  %reload_ext watermark\n",
      "Python implementation: CPython\n",
      "Python version       : 3.12.7\n",
      "IPython version      : 8.27.0\n",
      "\n",
      "numpy     : 1.26.4\n",
      "pandas    : 2.2.3\n",
      "matplotlib: 3.9.2\n",
      "torch     : 2.5.1\n",
      "\n"
     ]
    }
   ],
   "source": [
    "%load_ext watermark\n",
    "%watermark -v -p numpy,pandas,matplotlib,torch"
   ]
  },
  {
   "cell_type": "markdown",
   "id": "b9549676-2fa5-41a7-bbb9-ce03f5797c34",
   "metadata": {},
   "source": [
    "## 2) Loading the dataset"
   ]
  },
  {
   "cell_type": "markdown",
   "id": "e002ad95-a1f7-4c33-826a-4a45944f2687",
   "metadata": {},
   "source": [
    "- MNIST website: http://yann.lecun.com/exdb/mnist/"
   ]
  },
  {
   "cell_type": "code",
   "execution_count": null,
   "id": "f609024c-3eae-4ad5-8cb8-b95b403b7606",
   "metadata": {},
   "outputs": [
    {
     "name": "stdout",
     "output_type": "stream",
     "text": [
      "Downloading http://yann.lecun.com/exdb/mnist/train-images-idx3-ubyte.gz\n",
      "Failed to download (trying next):\n",
      "<urlopen error [Errno 60] Operation timed out>\n",
      "\n",
      "Downloading https://ossci-datasets.s3.amazonaws.com/mnist/train-images-idx3-ubyte.gz\n",
      "Downloading https://ossci-datasets.s3.amazonaws.com/mnist/train-images-idx3-ubyte.gz to ./mnist/MNIST/raw/train-images-idx3-ubyte.gz\n"
     ]
    },
    {
     "name": "stderr",
     "output_type": "stream",
     "text": [
      "100%|███████████████████████████████████████| 9.91M/9.91M [00:29<00:00, 336kB/s]\n"
     ]
    },
    {
     "name": "stdout",
     "output_type": "stream",
     "text": [
      "Extracting ./mnist/MNIST/raw/train-images-idx3-ubyte.gz to ./mnist/MNIST/raw\n",
      "\n",
      "Downloading http://yann.lecun.com/exdb/mnist/train-labels-idx1-ubyte.gz\n"
     ]
    }
   ],
   "source": [
    "from torch.utils.data import DataLoader\n",
    "from torchvision import datasets, transforms\n",
    "\n",
    "train_dataset = datasets.MNIST(\n",
    "    root=\"./mnist\", train=True, transform=transforms.ToTensor(), download=True\n",
    ")\n",
    "\n",
    "test_dataset = datasets.MNIST(\n",
    "    root=\"./mnist\", train=False, transform=transforms.ToTensor()\n",
    ")"
   ]
  },
  {
   "cell_type": "code",
   "execution_count": null,
   "id": "6661307a-6220-48d5-b965-4cd36e29e54c",
   "metadata": {},
   "outputs": [],
   "source": [
    "len(train_dataset)"
   ]
  },
  {
   "cell_type": "code",
   "execution_count": 7,
   "id": "78adc94e-5418-4aac-9a82-9a9cbf8fc688",
   "metadata": {},
   "outputs": [
    {
     "data": {
      "text/plain": [
       "10000"
      ]
     },
     "execution_count": 7,
     "metadata": {},
     "output_type": "execute_result"
    }
   ],
   "source": [
    "len(test_dataset)"
   ]
  },
  {
   "cell_type": "markdown",
   "id": "765adcf0-9147-434b-917a-f6d736a7117e",
   "metadata": {},
   "source": [
    "### Create a validation set"
   ]
  },
  {
   "cell_type": "code",
   "execution_count": 8,
   "id": "b39a42a2-cd46-46cf-ba93-d3f2f232f29c",
   "metadata": {},
   "outputs": [],
   "source": [
    "import torch\n",
    "from torch.utils.data.dataset import random_split\n",
    "\n",
    "torch.manual_seed(1)\n",
    "train_dataset, val_dataset = random_split(train_dataset, lengths=[55000, 5000])"
   ]
  },
  {
   "cell_type": "code",
   "execution_count": 9,
   "id": "b30e4a70-55b3-4fb0-b28d-b0fddd193fae",
   "metadata": {},
   "outputs": [],
   "source": [
    "train_loader = DataLoader(\n",
    "    dataset=train_dataset,\n",
    "    batch_size=64,\n",
    "    shuffle=True,\n",
    ")\n",
    "\n",
    "val_loader = DataLoader(\n",
    "    dataset=val_dataset,\n",
    "    batch_size=64,\n",
    "    shuffle=False,\n",
    ")\n",
    "\n",
    "test_loader = DataLoader(\n",
    "    dataset=test_dataset,\n",
    "    batch_size=64,\n",
    "    shuffle=False,\n",
    ")"
   ]
  },
  {
   "cell_type": "markdown",
   "id": "db50db02-3696-4f86-b149-74baabeec6c4",
   "metadata": {},
   "source": [
    "## 3) Implementing the model"
   ]
  },
  {
   "cell_type": "code",
   "execution_count": 10,
   "id": "971389a7-5424-4141-a3ee-9399eebbbb6a",
   "metadata": {},
   "outputs": [],
   "source": [
    "import torch\n",
    "\n",
    "class PyTorchMLP(torch.nn.Module):\n",
    "    def __init__(self, num_features, num_classes):\n",
    "        super().__init__()\n",
    "\n",
    "        self.all_layers = torch.nn.Sequential(\n",
    "            # 1st hidden layer\n",
    "            torch.nn.Linear(num_features, 50),\n",
    "            torch.nn.ReLU(),\n",
    "            torch.nn.Linear(50, num_classes),\n",
    "        )\n",
    "\n",
    "    def forward(self, x):\n",
    "        x = torch.flatten(x, start_dim=1)\n",
    "        logits = self.all_layers(x)\n",
    "        return logits"
   ]
  },
  {
   "cell_type": "markdown",
   "id": "46bc16a0-ec59-4c54-a209-0a5e22406287",
   "metadata": {},
   "source": [
    "## 4) The training loop"
   ]
  },
  {
   "cell_type": "code",
   "execution_count": 11,
   "id": "8de213fc-48b0-4f7c-af9e-8e2da068e351",
   "metadata": {},
   "outputs": [],
   "source": [
    "def compute_accuracy(model, dataloader):\n",
    "\n",
    "    model = model.eval()\n",
    "\n",
    "    correct = 0.0\n",
    "    total_examples = 0\n",
    "\n",
    "    for idx, (features, labels) in enumerate(dataloader):\n",
    "\n",
    "        with torch.no_grad():\n",
    "            logits = model(features)\n",
    "\n",
    "        predictions = torch.argmax(logits, dim=1)\n",
    "\n",
    "        compare = labels == predictions\n",
    "        correct += torch.sum(compare)\n",
    "        total_examples += len(compare)\n",
    "\n",
    "    return correct / total_examples"
   ]
  },
  {
   "cell_type": "code",
   "execution_count": 12,
   "id": "3dcaa2b1-4019-4128-9ff5-6a966c3abdf2",
   "metadata": {},
   "outputs": [
    {
     "name": "stdout",
     "output_type": "stream",
     "text": [
      "Epoch: 001/030 | Batch 000/860 | Train Loss: 2.32\n",
      "Epoch: 001/030 | Batch 250/860 | Train Loss: 0.69\n",
      "Epoch: 001/030 | Batch 500/860 | Train Loss: 0.42\n",
      "Epoch: 001/030 | Batch 750/860 | Train Loss: 0.39\n",
      "Train Acc 90.73% | Val Acc 90.72%\n",
      "Epoch: 002/030 | Batch 000/860 | Train Loss: 0.38\n",
      "Epoch: 002/030 | Batch 250/860 | Train Loss: 0.21\n",
      "Epoch: 002/030 | Batch 500/860 | Train Loss: 0.21\n",
      "Epoch: 002/030 | Batch 750/860 | Train Loss: 0.30\n",
      "Train Acc 92.17% | Val Acc 91.74%\n",
      "Epoch: 003/030 | Batch 000/860 | Train Loss: 0.44\n",
      "Epoch: 003/030 | Batch 250/860 | Train Loss: 0.31\n",
      "Epoch: 003/030 | Batch 500/860 | Train Loss: 0.20\n",
      "Epoch: 003/030 | Batch 750/860 | Train Loss: 0.23\n",
      "Train Acc 93.31% | Val Acc 92.80%\n",
      "Epoch: 004/030 | Batch 000/860 | Train Loss: 0.41\n",
      "Epoch: 004/030 | Batch 250/860 | Train Loss: 0.08\n",
      "Epoch: 004/030 | Batch 500/860 | Train Loss: 0.18\n",
      "Epoch: 004/030 | Batch 750/860 | Train Loss: 0.27\n",
      "Train Acc 93.80% | Val Acc 93.28%\n",
      "Epoch: 005/030 | Batch 000/860 | Train Loss: 0.26\n",
      "Epoch: 005/030 | Batch 250/860 | Train Loss: 0.26\n",
      "Epoch: 005/030 | Batch 500/860 | Train Loss: 0.37\n",
      "Epoch: 005/030 | Batch 750/860 | Train Loss: 0.18\n",
      "Train Acc 94.72% | Val Acc 94.04%\n",
      "Epoch: 006/030 | Batch 000/860 | Train Loss: 0.17\n",
      "Epoch: 006/030 | Batch 250/860 | Train Loss: 0.12\n",
      "Epoch: 006/030 | Batch 500/860 | Train Loss: 0.17\n",
      "Epoch: 006/030 | Batch 750/860 | Train Loss: 0.08\n",
      "Train Acc 95.30% | Val Acc 94.30%\n",
      "Epoch: 007/030 | Batch 000/860 | Train Loss: 0.27\n",
      "Epoch: 007/030 | Batch 250/860 | Train Loss: 0.07\n",
      "Epoch: 007/030 | Batch 500/860 | Train Loss: 0.12\n",
      "Epoch: 007/030 | Batch 750/860 | Train Loss: 0.15\n",
      "Train Acc 95.68% | Val Acc 94.66%\n",
      "Epoch: 008/030 | Batch 000/860 | Train Loss: 0.29\n",
      "Epoch: 008/030 | Batch 250/860 | Train Loss: 0.12\n",
      "Epoch: 008/030 | Batch 500/860 | Train Loss: 0.07\n",
      "Epoch: 008/030 | Batch 750/860 | Train Loss: 0.09\n",
      "Train Acc 95.99% | Val Acc 95.14%\n",
      "Epoch: 009/030 | Batch 000/860 | Train Loss: 0.17\n",
      "Epoch: 009/030 | Batch 250/860 | Train Loss: 0.10\n",
      "Epoch: 009/030 | Batch 500/860 | Train Loss: 0.04\n",
      "Epoch: 009/030 | Batch 750/860 | Train Loss: 0.14\n",
      "Train Acc 96.31% | Val Acc 95.28%\n",
      "Epoch: 010/030 | Batch 000/860 | Train Loss: 0.09\n",
      "Epoch: 010/030 | Batch 250/860 | Train Loss: 0.08\n",
      "Epoch: 010/030 | Batch 500/860 | Train Loss: 0.06\n",
      "Epoch: 010/030 | Batch 750/860 | Train Loss: 0.12\n",
      "Train Acc 96.64% | Val Acc 95.38%\n",
      "Epoch: 011/030 | Batch 000/860 | Train Loss: 0.13\n",
      "Epoch: 011/030 | Batch 250/860 | Train Loss: 0.02\n",
      "Epoch: 011/030 | Batch 500/860 | Train Loss: 0.04\n",
      "Epoch: 011/030 | Batch 750/860 | Train Loss: 0.07\n",
      "Train Acc 96.76% | Val Acc 95.34%\n",
      "Epoch: 012/030 | Batch 000/860 | Train Loss: 0.08\n",
      "Epoch: 012/030 | Batch 250/860 | Train Loss: 0.09\n",
      "Epoch: 012/030 | Batch 500/860 | Train Loss: 0.12\n",
      "Epoch: 012/030 | Batch 750/860 | Train Loss: 0.26\n",
      "Train Acc 96.86% | Val Acc 95.24%\n",
      "Epoch: 013/030 | Batch 000/860 | Train Loss: 0.08\n",
      "Epoch: 013/030 | Batch 250/860 | Train Loss: 0.07\n",
      "Epoch: 013/030 | Batch 500/860 | Train Loss: 0.24\n",
      "Epoch: 013/030 | Batch 750/860 | Train Loss: 0.05\n",
      "Train Acc 97.21% | Val Acc 95.88%\n",
      "Epoch: 014/030 | Batch 000/860 | Train Loss: 0.07\n",
      "Epoch: 014/030 | Batch 250/860 | Train Loss: 0.11\n",
      "Epoch: 014/030 | Batch 500/860 | Train Loss: 0.05\n",
      "Epoch: 014/030 | Batch 750/860 | Train Loss: 0.04\n",
      "Train Acc 97.22% | Val Acc 95.88%\n",
      "Epoch: 015/030 | Batch 000/860 | Train Loss: 0.09\n",
      "Epoch: 015/030 | Batch 250/860 | Train Loss: 0.04\n",
      "Epoch: 015/030 | Batch 500/860 | Train Loss: 0.05\n",
      "Epoch: 015/030 | Batch 750/860 | Train Loss: 0.06\n",
      "Train Acc 97.44% | Val Acc 96.08%\n",
      "Epoch: 016/030 | Batch 000/860 | Train Loss: 0.06\n",
      "Epoch: 016/030 | Batch 250/860 | Train Loss: 0.10\n",
      "Epoch: 016/030 | Batch 500/860 | Train Loss: 0.07\n",
      "Epoch: 016/030 | Batch 750/860 | Train Loss: 0.07\n",
      "Train Acc 97.51% | Val Acc 96.06%\n",
      "Epoch: 017/030 | Batch 000/860 | Train Loss: 0.09\n",
      "Epoch: 017/030 | Batch 250/860 | Train Loss: 0.10\n",
      "Epoch: 017/030 | Batch 500/860 | Train Loss: 0.12\n",
      "Epoch: 017/030 | Batch 750/860 | Train Loss: 0.05\n",
      "Train Acc 97.78% | Val Acc 96.14%\n",
      "Epoch: 018/030 | Batch 000/860 | Train Loss: 0.04\n",
      "Epoch: 018/030 | Batch 250/860 | Train Loss: 0.04\n",
      "Epoch: 018/030 | Batch 500/860 | Train Loss: 0.11\n",
      "Epoch: 018/030 | Batch 750/860 | Train Loss: 0.11\n",
      "Train Acc 97.89% | Val Acc 96.46%\n",
      "Epoch: 019/030 | Batch 000/860 | Train Loss: 0.07\n",
      "Epoch: 019/030 | Batch 250/860 | Train Loss: 0.23\n",
      "Epoch: 019/030 | Batch 500/860 | Train Loss: 0.05\n",
      "Epoch: 019/030 | Batch 750/860 | Train Loss: 0.13\n",
      "Train Acc 97.95% | Val Acc 96.38%\n",
      "Epoch: 020/030 | Batch 000/860 | Train Loss: 0.07\n",
      "Epoch: 020/030 | Batch 250/860 | Train Loss: 0.05\n",
      "Epoch: 020/030 | Batch 500/860 | Train Loss: 0.15\n",
      "Epoch: 020/030 | Batch 750/860 | Train Loss: 0.09\n",
      "Train Acc 97.99% | Val Acc 96.32%\n",
      "Epoch: 021/030 | Batch 000/860 | Train Loss: 0.05\n",
      "Epoch: 021/030 | Batch 250/860 | Train Loss: 0.08\n",
      "Epoch: 021/030 | Batch 500/860 | Train Loss: 0.03\n",
      "Epoch: 021/030 | Batch 750/860 | Train Loss: 0.09\n",
      "Train Acc 98.13% | Val Acc 96.40%\n",
      "Epoch: 022/030 | Batch 000/860 | Train Loss: 0.03\n",
      "Epoch: 022/030 | Batch 250/860 | Train Loss: 0.02\n",
      "Epoch: 022/030 | Batch 500/860 | Train Loss: 0.04\n",
      "Epoch: 022/030 | Batch 750/860 | Train Loss: 0.20\n",
      "Train Acc 98.24% | Val Acc 96.60%\n",
      "Epoch: 023/030 | Batch 000/860 | Train Loss: 0.13\n",
      "Epoch: 023/030 | Batch 250/860 | Train Loss: 0.04\n",
      "Epoch: 023/030 | Batch 500/860 | Train Loss: 0.04\n",
      "Epoch: 023/030 | Batch 750/860 | Train Loss: 0.10\n",
      "Train Acc 98.22% | Val Acc 96.60%\n",
      "Epoch: 024/030 | Batch 000/860 | Train Loss: 0.22\n",
      "Epoch: 024/030 | Batch 250/860 | Train Loss: 0.08\n",
      "Epoch: 024/030 | Batch 500/860 | Train Loss: 0.16\n",
      "Epoch: 024/030 | Batch 750/860 | Train Loss: 0.03\n",
      "Train Acc 98.44% | Val Acc 96.64%\n",
      "Epoch: 025/030 | Batch 000/860 | Train Loss: 0.05\n",
      "Epoch: 025/030 | Batch 250/860 | Train Loss: 0.11\n",
      "Epoch: 025/030 | Batch 500/860 | Train Loss: 0.07\n",
      "Epoch: 025/030 | Batch 750/860 | Train Loss: 0.02\n",
      "Train Acc 98.23% | Val Acc 96.60%\n",
      "Epoch: 026/030 | Batch 000/860 | Train Loss: 0.02\n",
      "Epoch: 026/030 | Batch 250/860 | Train Loss: 0.09\n",
      "Epoch: 026/030 | Batch 500/860 | Train Loss: 0.05\n",
      "Epoch: 026/030 | Batch 750/860 | Train Loss: 0.04\n",
      "Train Acc 98.47% | Val Acc 96.68%\n",
      "Epoch: 027/030 | Batch 000/860 | Train Loss: 0.05\n",
      "Epoch: 027/030 | Batch 250/860 | Train Loss: 0.10\n",
      "Epoch: 027/030 | Batch 500/860 | Train Loss: 0.20\n",
      "Epoch: 027/030 | Batch 750/860 | Train Loss: 0.13\n",
      "Train Acc 98.50% | Val Acc 96.78%\n",
      "Epoch: 028/030 | Batch 000/860 | Train Loss: 0.03\n",
      "Epoch: 028/030 | Batch 250/860 | Train Loss: 0.01\n",
      "Epoch: 028/030 | Batch 500/860 | Train Loss: 0.15\n",
      "Epoch: 028/030 | Batch 750/860 | Train Loss: 0.17\n",
      "Train Acc 98.48% | Val Acc 96.62%\n",
      "Epoch: 029/030 | Batch 000/860 | Train Loss: 0.04\n",
      "Epoch: 029/030 | Batch 250/860 | Train Loss: 0.04\n",
      "Epoch: 029/030 | Batch 500/860 | Train Loss: 0.03\n",
      "Epoch: 029/030 | Batch 750/860 | Train Loss: 0.05\n",
      "Train Acc 98.67% | Val Acc 96.90%\n",
      "Epoch: 030/030 | Batch 000/860 | Train Loss: 0.03\n",
      "Epoch: 030/030 | Batch 250/860 | Train Loss: 0.03\n",
      "Epoch: 030/030 | Batch 500/860 | Train Loss: 0.03\n",
      "Epoch: 030/030 | Batch 750/860 | Train Loss: 0.07\n",
      "Train Acc 98.27% | Val Acc 96.40%\n"
     ]
    }
   ],
   "source": [
    "import torch.nn.functional as F\n",
    "\n",
    "torch.manual_seed(1)\n",
    "model = PyTorchMLP(num_features=784, num_classes=10)\n",
    "\n",
    "optimizer = torch.optim.SGD(model.parameters(), lr=0.05)\n",
    "\n",
    "num_epochs = 30\n",
    "\n",
    "loss_list = []\n",
    "train_acc_list, val_acc_list = [], []\n",
    "for epoch in range(num_epochs):\n",
    "\n",
    "    model = model.train()\n",
    "    for batch_idx, (features, labels) in enumerate(train_loader):\n",
    "\n",
    "        logits = model(features)\n",
    "\n",
    "        loss = F.cross_entropy(logits, labels)\n",
    "\n",
    "        optimizer.zero_grad()\n",
    "        loss.backward()\n",
    "        optimizer.step()\n",
    "\n",
    "        if not batch_idx % 250:\n",
    "            ### LOGGING\n",
    "            print(\n",
    "                f\"Epoch: {epoch+1:03d}/{num_epochs:03d}\"\n",
    "                f\" | Batch {batch_idx:03d}/{len(train_loader):03d}\"\n",
    "                f\" | Train Loss: {loss:.2f}\"\n",
    "            )\n",
    "        loss_list.append(loss.item())\n",
    "\n",
    "    train_acc = compute_accuracy(model, train_loader)\n",
    "    val_acc = compute_accuracy(model, val_loader)\n",
    "    print(f\"Train Acc {train_acc*100:.2f}% | Val Acc {val_acc*100:.2f}%\")\n",
    "    train_acc_list.append(train_acc)\n",
    "    val_acc_list.append(val_acc)"
   ]
  },
  {
   "cell_type": "markdown",
   "id": "bb0d5821-7c8d-46b5-9e7d-02e72cac2acc",
   "metadata": {},
   "source": [
    "## 5) Evaluating the results"
   ]
  },
  {
   "cell_type": "code",
   "execution_count": 13,
   "id": "27538c8d-61bc-47b0-8289-b6aab4aa16ed",
   "metadata": {},
   "outputs": [
    {
     "name": "stdout",
     "output_type": "stream",
     "text": [
      "Train Acc 98.27%\n",
      "Val Acc 96.40%\n",
      "Test Acc 96.88%\n"
     ]
    }
   ],
   "source": [
    "train_acc = compute_accuracy(model, train_loader)\n",
    "val_acc = compute_accuracy(model, val_loader)\n",
    "test_acc = compute_accuracy(model, test_loader)\n",
    "\n",
    "print(f\"Train Acc {train_acc*100:.2f}%\")\n",
    "print(f\"Val Acc {val_acc*100:.2f}%\")\n",
    "print(f\"Test Acc {test_acc*100:.2f}%\")"
   ]
  },
  {
   "cell_type": "code",
   "execution_count": 14,
   "id": "0f1f8499-3191-4f78-b2d4-82daba9b9bc0",
   "metadata": {},
   "outputs": [
    {
     "data": {
      "image/png": "[encoded data removed]",
      "text/plain": [
       "<Figure size 640x480 with 2 Axes>"
      ]
     },
     "metadata": {},
     "output_type": "display_data"
    }
   ],
   "source": [
    "from helper_plotting import plot_training_loss\n",
    "\n",
    "plot_training_loss(minibatch_loss_list=loss_list,\n",
    "                   num_epochs=num_epochs,\n",
    "                   iter_per_epoch=len(loss_list)//num_epochs)"
   ]
  },
  {
   "cell_type": "code",
   "execution_count": 15,
   "id": "bf9d4519-b7a2-4382-90d0-a0dce2ee608e",
   "metadata": {},
   "outputs": [
    {
     "data": {
      "image/png": "[encoded data removed]",
      "text/plain": [
       "<Figure size 640x480 with 1 Axes>"
      ]
     },
     "metadata": {},
     "output_type": "display_data"
    }
   ],
   "source": [
    "from helper_plotting import plot_accuracy\n",
    "\n",
    "plot_accuracy(train_acc_list=train_acc_list, valid_acc_list=val_acc_list)"
   ]
  }
 ],
 "metadata": {
  "kernelspec": {
   "display_name": "Python 3 (ipykernel)",
   "language": "python",
   "name": "python3"
  },
  "language_info": {
   "codemirror_mode": {
    "name": "ipython",
    "version": 3
   },
   "file_extension": ".py",
   "mimetype": "text/x-python",
   "name": "python",
   "nbconvert_exporter": "python",
   "pygments_lexer": "ipython3",
   "version": "3.12.7"
  }
 },
 "nbformat": 4,
 "nbformat_minor": 5
}
